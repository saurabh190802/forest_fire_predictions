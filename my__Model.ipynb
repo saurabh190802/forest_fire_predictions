{
  "nbformat": 4,
  "nbformat_minor": 0,
  "metadata": {
    "colab": {
      "name": "Ml_Model.ipynb",
      "provenance": [],
      "collapsed_sections": []
    },
    "kernelspec": {
      "name": "python3",
      "display_name": "Python 3"
    },
    "language_info": {
      "name": "python"
    }
  },
  "cells": [
    {
      "cell_type": "code",
      "metadata": {
        "id": "lWNtHKdyGO09"
      },
      "source": [
        ""
      ],
      "execution_count": null,
      "outputs": []
    },
    {
      "cell_type": "code",
      "metadata": {
        "id": "cFLouvMDGSYg"
      },
      "source": [
        "import pandas as pd\n",
        "import numpy as np\n",
        "import matplotlib.pyplot as plt\n",
        "import seaborn as sns"
      ],
      "execution_count": null,
      "outputs": []
    },
    {
      "cell_type": "code",
      "metadata": {
        "colab": {
          "base_uri": "https://localhost:8080/",
          "height": 195
        },
        "id": "FzZIyqmbHFT3",
        "outputId": "aa8f4a89-2977-46e9-8c60-d3bbd82781c5"
      },
      "source": [
        "df = pd.read_csv(\"Forest_fire.csv\")\n",
        "df.head()"
      ],
      "execution_count": null,
      "outputs": [
        {
          "output_type": "execute_result",
          "data": {
            "text/html": [
              "<div>\n",
              "<style scoped>\n",
              "    .dataframe tbody tr th:only-of-type {\n",
              "        vertical-align: middle;\n",
              "    }\n",
              "\n",
              "    .dataframe tbody tr th {\n",
              "        vertical-align: top;\n",
              "    }\n",
              "\n",
              "    .dataframe thead th {\n",
              "        text-align: right;\n",
              "    }\n",
              "</style>\n",
              "<table border=\"1\" class=\"dataframe\">\n",
              "  <thead>\n",
              "    <tr style=\"text-align: right;\">\n",
              "      <th></th>\n",
              "      <th>Area</th>\n",
              "      <th>Oxygen</th>\n",
              "      <th>Temperature</th>\n",
              "      <th>Humidity</th>\n",
              "      <th>Fire Occurrence</th>\n",
              "    </tr>\n",
              "  </thead>\n",
              "  <tbody>\n",
              "    <tr>\n",
              "      <th>0</th>\n",
              "      <td>Jharkand</td>\n",
              "      <td>40</td>\n",
              "      <td>45</td>\n",
              "      <td>20</td>\n",
              "      <td>1</td>\n",
              "    </tr>\n",
              "    <tr>\n",
              "      <th>1</th>\n",
              "      <td>Bangalore</td>\n",
              "      <td>50</td>\n",
              "      <td>30</td>\n",
              "      <td>10</td>\n",
              "      <td>1</td>\n",
              "    </tr>\n",
              "    <tr>\n",
              "      <th>2</th>\n",
              "      <td>Ecuador</td>\n",
              "      <td>10</td>\n",
              "      <td>20</td>\n",
              "      <td>70</td>\n",
              "      <td>0</td>\n",
              "    </tr>\n",
              "    <tr>\n",
              "      <th>3</th>\n",
              "      <td>a</td>\n",
              "      <td>60</td>\n",
              "      <td>45</td>\n",
              "      <td>70</td>\n",
              "      <td>1</td>\n",
              "    </tr>\n",
              "    <tr>\n",
              "      <th>4</th>\n",
              "      <td>Bangalore</td>\n",
              "      <td>30</td>\n",
              "      <td>48</td>\n",
              "      <td>10</td>\n",
              "      <td>1</td>\n",
              "    </tr>\n",
              "  </tbody>\n",
              "</table>\n",
              "</div>"
            ],
            "text/plain": [
              "        Area  Oxygen  Temperature  Humidity  Fire Occurrence\n",
              "0   Jharkand      40           45        20                1\n",
              "1  Bangalore      50           30        10                1\n",
              "2    Ecuador      10           20        70                0\n",
              "3          a      60           45        70                1\n",
              "4  Bangalore      30           48        10                1"
            ]
          },
          "metadata": {
            "tags": []
          },
          "execution_count": 3
        }
      ]
    },
    {
      "cell_type": "code",
      "metadata": {
        "colab": {
          "base_uri": "https://localhost:8080/"
        },
        "id": "ZhOPwtzmHNzl",
        "outputId": "ea2872bb-8bbd-4ad2-a073-ebc1b02c4b5f"
      },
      "source": [
        "df.isnull().sum()"
      ],
      "execution_count": null,
      "outputs": [
        {
          "output_type": "execute_result",
          "data": {
            "text/plain": [
              "Area               10\n",
              "Oxygen              0\n",
              "Temperature         0\n",
              "Humidity            0\n",
              "Fire Occurrence     0\n",
              "dtype: int64"
            ]
          },
          "metadata": {
            "tags": []
          },
          "execution_count": 4
        }
      ]
    },
    {
      "cell_type": "code",
      "metadata": {
        "colab": {
          "base_uri": "https://localhost:8080/"
        },
        "id": "zlTG9D8bHQfr",
        "outputId": "471243bd-0a47-40aa-f8a1-3213558f6b4a"
      },
      "source": [
        "df[\"Area\"]"
      ],
      "execution_count": null,
      "outputs": [
        {
          "output_type": "execute_result",
          "data": {
            "text/plain": [
              "0      Jharkand\n",
              "1     Bangalore\n",
              "2       Ecuador\n",
              "3             a\n",
              "4     Bangalore\n",
              "5             c\n",
              "6            de\n",
              "7           asd\n",
              "8       Ecuador\n",
              "9             r\n",
              "10            t\n",
              "11            y\n",
              "12     Jharkand\n",
              "13    Bangalore\n",
              "14      Ecuador\n",
              "15       canada\n",
              "16            c\n",
              "17            c\n",
              "18          asd\n",
              "19          asd\n",
              "20           ad\n",
              "21         sasd\n",
              "22          asd\n",
              "23        asdas\n",
              "24          das\n",
              "25          das\n",
              "26          ads\n",
              "27          ads\n",
              "28          asd\n",
              "29          NaN\n",
              "30          NaN\n",
              "31          NaN\n",
              "32          NaN\n",
              "33          NaN\n",
              "34          NaN\n",
              "35          NaN\n",
              "36          NaN\n",
              "37          NaN\n",
              "38          NaN\n",
              "Name: Area, dtype: object"
            ]
          },
          "metadata": {
            "tags": []
          },
          "execution_count": 5
        }
      ]
    },
    {
      "cell_type": "code",
      "metadata": {
        "id": "VjYCqLDCHTUu"
      },
      "source": [
        "X = df.iloc[:,1:4].values"
      ],
      "execution_count": null,
      "outputs": []
    },
    {
      "cell_type": "code",
      "metadata": {
        "colab": {
          "base_uri": "https://localhost:8080/"
        },
        "id": "WqjWVB8FIAJj",
        "outputId": "e71a2ef0-90f2-40df-a814-0ead2d9e2a8d"
      },
      "source": [
        "X"
      ],
      "execution_count": null,
      "outputs": [
        {
          "output_type": "execute_result",
          "data": {
            "text/plain": [
              "array([[ 40,  45,  20],\n",
              "       [ 50,  30,  10],\n",
              "       [ 10,  20,  70],\n",
              "       [ 60,  45,  70],\n",
              "       [ 30,  48,  10],\n",
              "       [ 50,  15,  30],\n",
              "       [  5,  35,  35],\n",
              "       [  5,  20,  70],\n",
              "       [ 60,  32,  19],\n",
              "       [ 30,  50,  45],\n",
              "       [ 40,  55,  80],\n",
              "       [ 30,  39, 100],\n",
              "       [ 10,  12,  12],\n",
              "       [ 20,  23,  23],\n",
              "       [ 60,  34,  15],\n",
              "       [ 80,   4,  68],\n",
              "       [ 25,  56,  79],\n",
              "       [ 12,  45,  90],\n",
              "       [ 28,  43,  15],\n",
              "       [ 26,   0,  32],\n",
              "       [ 32,  37,  21],\n",
              "       [ 45,  48,  12],\n",
              "       [ 56,  15,  65],\n",
              "       [ 67,  45,  33],\n",
              "       [ 78,  49,   8],\n",
              "       [ 89,  45,  18],\n",
              "       [ 21,  12,  44],\n",
              "       [ 11,  20,  59],\n",
              "       [  1,  32,  70],\n",
              "       [  5,  20,  45],\n",
              "       [ 42,  43,  20],\n",
              "       [ 32,  60,  30],\n",
              "       [  5,  15,   5],\n",
              "       [ 20,  30,   5],\n",
              "       [ 30,  51,   2],\n",
              "       [ 60,  60,  10],\n",
              "       [ 10,  10,  60],\n",
              "       [  0,  30,   0],\n",
              "       [ 45,  45,  15]])"
            ]
          },
          "metadata": {
            "tags": []
          },
          "execution_count": 9
        }
      ]
    },
    {
      "cell_type": "code",
      "metadata": {
        "colab": {
          "base_uri": "https://localhost:8080/",
          "height": 77
        },
        "id": "RtEnj_BeJZ3J",
        "outputId": "cd79b0a2-0713-4c3c-be40-1ee9af392e58"
      },
      "source": [
        "df.head(1)"
      ],
      "execution_count": null,
      "outputs": [
        {
          "output_type": "execute_result",
          "data": {
            "text/html": [
              "<div>\n",
              "<style scoped>\n",
              "    .dataframe tbody tr th:only-of-type {\n",
              "        vertical-align: middle;\n",
              "    }\n",
              "\n",
              "    .dataframe tbody tr th {\n",
              "        vertical-align: top;\n",
              "    }\n",
              "\n",
              "    .dataframe thead th {\n",
              "        text-align: right;\n",
              "    }\n",
              "</style>\n",
              "<table border=\"1\" class=\"dataframe\">\n",
              "  <thead>\n",
              "    <tr style=\"text-align: right;\">\n",
              "      <th></th>\n",
              "      <th>Area</th>\n",
              "      <th>Oxygen</th>\n",
              "      <th>Temperature</th>\n",
              "      <th>Humidity</th>\n",
              "      <th>Fire Occurrence</th>\n",
              "    </tr>\n",
              "  </thead>\n",
              "  <tbody>\n",
              "    <tr>\n",
              "      <th>0</th>\n",
              "      <td>Jharkand</td>\n",
              "      <td>40</td>\n",
              "      <td>45</td>\n",
              "      <td>20</td>\n",
              "      <td>1</td>\n",
              "    </tr>\n",
              "  </tbody>\n",
              "</table>\n",
              "</div>"
            ],
            "text/plain": [
              "       Area  Oxygen  Temperature  Humidity  Fire Occurrence\n",
              "0  Jharkand      40           45        20                1"
            ]
          },
          "metadata": {
            "tags": []
          },
          "execution_count": 14
        }
      ]
    },
    {
      "cell_type": "code",
      "metadata": {
        "id": "V6UXIHYUIAi6"
      },
      "source": [
        "from sklearn.preprocessing import StandardScaler"
      ],
      "execution_count": null,
      "outputs": []
    },
    {
      "cell_type": "code",
      "metadata": {
        "colab": {
          "base_uri": "https://localhost:8080/"
        },
        "id": "20VpLGu8Jd1R",
        "outputId": "e3404d6b-7f0b-4d25-822b-5b852c3c569a"
      },
      "source": [
        "y = df.iloc[:,-1].values\n",
        "y"
      ],
      "execution_count": null,
      "outputs": [
        {
          "output_type": "execute_result",
          "data": {
            "text/plain": [
              "array([1, 1, 0, 1, 1, 0, 0, 0, 1, 1, 1, 0, 0, 0, 1, 0, 1, 0, 1, 0, 1, 1,\n",
              "       0, 1, 1, 1, 0, 0, 0, 0, 1, 1, 0, 0, 1, 1, 0, 0, 1])"
            ]
          },
          "metadata": {
            "tags": []
          },
          "execution_count": 16
        }
      ]
    },
    {
      "cell_type": "markdown",
      "metadata": {
        "id": "9Szd46xAJV9b"
      },
      "source": [
        ""
      ]
    },
    {
      "cell_type": "code",
      "metadata": {
        "id": "7sGQ-RdjIxxY"
      },
      "source": [
        "scaler = StandardScaler()"
      ],
      "execution_count": null,
      "outputs": []
    },
    {
      "cell_type": "code",
      "metadata": {
        "id": "YB3SyKiFJH2U"
      },
      "source": [
        "from sklearn.model_selection import  train_test_split\n"
      ],
      "execution_count": null,
      "outputs": []
    },
    {
      "cell_type": "code",
      "metadata": {
        "id": "5y94MznpJMt0"
      },
      "source": [
        "X_train, X_test, y_train, y_test = train_test_split(X, y, test_size=0.20, random_state=101)"
      ],
      "execution_count": null,
      "outputs": []
    },
    {
      "cell_type": "code",
      "metadata": {
        "id": "Jy-F4x7LJvoi"
      },
      "source": [
        "X_train =  scaler.fit_transform(X_train)\n",
        "X_test = scaler.transform(X_test)\n"
      ],
      "execution_count": null,
      "outputs": []
    },
    {
      "cell_type": "code",
      "metadata": {
        "colab": {
          "base_uri": "https://localhost:8080/"
        },
        "id": "W-IzA1KDJxDI",
        "outputId": "43c4e3e6-433e-4365-eb3e-14ee9c1257a8"
      },
      "source": [
        "X_train"
      ],
      "execution_count": null,
      "outputs": [
        {
          "output_type": "execute_result",
          "data": {
            "text/plain": [
              "array([[-0.26881625,  1.41971156,  1.36557278],\n",
              "       [-0.45929177, -1.25499364,  0.15110846],\n",
              "       [-1.22119383, -0.7686836 ,  1.05328195],\n",
              "       [-0.50691065, -0.16079606, -1.20215177],\n",
              "       [ 0.44546693,  1.3589228 ,  1.40027176],\n",
              "       [ 1.39784451,  0.75103526,  1.05328195],\n",
              "       [-1.22119383, -1.07262738, -1.20215177],\n",
              "       [-0.12595962,  0.62945775, -0.85516197],\n",
              "       [-0.03072186,  1.11576778, -1.30624872],\n",
              "       [-0.98309944, -0.7686836 ,  1.05328195],\n",
              "       [ 1.207369  , -1.07262738,  0.87978705],\n",
              "       [ 2.3502221 , -1.74130368,  0.98388399],\n",
              "       [-0.22119737, -1.98445869, -0.2652793 ],\n",
              "       [-0.98309944, -1.37657115,  0.70629215],\n",
              "       [-1.41166935, -0.03921855,  1.05328195],\n",
              "       [-0.98309944, -1.25499364, -0.95925891],\n",
              "       [ 0.92165572, -1.07262738, -0.33467726],\n",
              "       [ 1.39784451,  0.08235896, -0.85516197],\n",
              "       [ 0.44546693,  0.75103526, -0.68166707],\n",
              "       [ 0.68356133,  0.93340152, -0.95925891],\n",
              "       [ 0.54070469,  0.62945775, -0.68166707],\n",
              "       [-0.03072186,  0.93340152, -1.02865687],\n",
              "       [ 1.39784451, -0.03921855, -0.71636605],\n",
              "       [-0.50691065, -0.58631734, -0.57757013],\n",
              "       [-0.03072186,  1.05497903,  0.18580744],\n",
              "       [-1.45928823, -0.16079606, -1.37564668],\n",
              "       [ 1.73117667,  0.75103526, -0.23058032],\n",
              "       [-1.22119383,  0.14314771, -0.16118236],\n",
              "       [-0.88786168,  0.75103526,  1.74726156],\n",
              "       [-0.03072186,  0.38630273,  2.09425137],\n",
              "       [ 0.0645159 ,  1.66286657, -0.33467726]])"
            ]
          },
          "metadata": {
            "tags": []
          },
          "execution_count": 24
        }
      ]
    },
    {
      "cell_type": "code",
      "metadata": {
        "colab": {
          "base_uri": "https://localhost:8080/"
        },
        "id": "KI6Mq3K8amZc",
        "outputId": "560f478d-9727-4202-b478-b56d33f5f325"
      },
      "source": [
        "X_test"
      ],
      "execution_count": null,
      "outputs": [
        {
          "output_type": "execute_result",
          "data": {
            "text/plain": [
              "array([[-0.93548056, -0.7686836 ,  0.67159317],\n",
              "       [ 0.0645159 ,  0.26472522, -0.64696809],\n",
              "       [ 1.39784451,  1.66286657, -1.02865687],\n",
              "       [ 2.25498434,  0.99419027, -1.09805483],\n",
              "       [ 0.68356133,  0.75103526, -0.85516197],\n",
              "       [-1.22119383, -0.7686836 ,  0.18580744],\n",
              "       [ 2.77879201,  0.75103526, -0.75106503],\n",
              "       [ 0.92165572, -0.16079606, -1.02865687]])"
            ]
          },
          "metadata": {
            "tags": []
          },
          "execution_count": 25
        }
      ]
    },
    {
      "cell_type": "code",
      "metadata": {
        "colab": {
          "base_uri": "https://localhost:8080/"
        },
        "id": "S1REcJ4aapu-",
        "outputId": "3d4e652f-2515-48ec-85f1-07fff90c006b"
      },
      "source": [
        "y_train"
      ],
      "execution_count": null,
      "outputs": [
        {
          "output_type": "execute_result",
          "data": {
            "text/plain": [
              "array([1, 0, 0, 0, 1, 1, 0, 1, 1, 0, 0, 0, 0, 0, 0, 0, 0, 1, 1, 1, 1, 1,\n",
              "       1, 0, 1, 0, 1, 0, 0, 0, 1])"
            ]
          },
          "metadata": {
            "tags": []
          },
          "execution_count": 26
        }
      ]
    },
    {
      "cell_type": "code",
      "metadata": {
        "colab": {
          "base_uri": "https://localhost:8080/"
        },
        "id": "f--o2ScQasdN",
        "outputId": "2e152835-377e-4964-ef0c-72e58d397d45"
      },
      "source": [
        "y_test"
      ],
      "execution_count": null,
      "outputs": [
        {
          "output_type": "execute_result",
          "data": {
            "text/plain": [
              "array([0, 1, 1, 1, 1, 0, 1, 1])"
            ]
          },
          "metadata": {
            "tags": []
          },
          "execution_count": 28
        }
      ]
    },
    {
      "cell_type": "code",
      "metadata": {
        "id": "c0t6YOIMatj7"
      },
      "source": [
        "from sklearn.linear_model import LogisticRegression"
      ],
      "execution_count": null,
      "outputs": []
    },
    {
      "cell_type": "code",
      "metadata": {
        "id": "YT64AlvFbFZa"
      },
      "source": [
        "classifier = LogisticRegression()"
      ],
      "execution_count": null,
      "outputs": []
    },
    {
      "cell_type": "code",
      "metadata": {
        "colab": {
          "base_uri": "https://localhost:8080/"
        },
        "id": "JdS8v-3YbKtH",
        "outputId": "9163f89a-6298-49b0-fb4b-28776159bfee"
      },
      "source": [
        "classifier.fit(X_train,y_train)"
      ],
      "execution_count": null,
      "outputs": [
        {
          "output_type": "execute_result",
          "data": {
            "text/plain": [
              "LogisticRegression(C=1.0, class_weight=None, dual=False, fit_intercept=True,\n",
              "                   intercept_scaling=1, l1_ratio=None, max_iter=100,\n",
              "                   multi_class='auto', n_jobs=None, penalty='l2',\n",
              "                   random_state=None, solver='lbfgs', tol=0.0001, verbose=0,\n",
              "                   warm_start=False)"
            ]
          },
          "metadata": {
            "tags": []
          },
          "execution_count": 31
        }
      ]
    },
    {
      "cell_type": "code",
      "metadata": {
        "id": "E_BJc-CubRsa"
      },
      "source": [
        ""
      ],
      "execution_count": null,
      "outputs": []
    },
    {
      "cell_type": "code",
      "metadata": {
        "colab": {
          "base_uri": "https://localhost:8080/"
        },
        "id": "fZm0-2cbbgyn",
        "outputId": "95143f8d-8f71-40b5-d2ee-3b2d424e520c"
      },
      "source": [
        "classifier.predict(scaler.transform([[50,30,10]]))"
      ],
      "execution_count": null,
      "outputs": [
        {
          "output_type": "execute_result",
          "data": {
            "text/plain": [
              "array([1])"
            ]
          },
          "metadata": {
            "tags": []
          },
          "execution_count": 39
        }
      ]
    },
    {
      "cell_type": "code",
      "metadata": {
        "colab": {
          "base_uri": "https://localhost:8080/"
        },
        "id": "k9HVgwcfbrhJ",
        "outputId": "2de3c186-2d64-4aef-cc98-ddfc360420ba"
      },
      "source": [
        "classifier.predict([[50,30,10]])"
      ],
      "execution_count": null,
      "outputs": [
        {
          "output_type": "execute_result",
          "data": {
            "text/plain": [
              "array([1])"
            ]
          },
          "metadata": {
            "tags": []
          },
          "execution_count": 35
        }
      ]
    },
    {
      "cell_type": "code",
      "metadata": {
        "colab": {
          "base_uri": "https://localhost:8080/"
        },
        "id": "kB8cwQSBb3E8",
        "outputId": "5a0c848a-9708-4816-8aff-46b7d037380d"
      },
      "source": [
        "classifier.predict_proba([[50,30,10]])"
      ],
      "execution_count": null,
      "outputs": [
        {
          "output_type": "execute_result",
          "data": {
            "text/plain": [
              "array([[0., 1.]])"
            ]
          },
          "metadata": {
            "tags": []
          },
          "execution_count": 40
        }
      ]
    },
    {
      "cell_type": "code",
      "metadata": {
        "id": "jO1mHcDjb-r5"
      },
      "source": [
        "y_pred = classifier.predict(X_test)"
      ],
      "execution_count": null,
      "outputs": []
    },
    {
      "cell_type": "code",
      "metadata": {
        "colab": {
          "base_uri": "https://localhost:8080/"
        },
        "id": "B24BZB58cupa",
        "outputId": "df160a54-7fcb-4cb2-bacf-83dab64abdd5"
      },
      "source": [
        "y_pred"
      ],
      "execution_count": null,
      "outputs": [
        {
          "output_type": "execute_result",
          "data": {
            "text/plain": [
              "array([0, 1, 1, 1, 1, 0, 1, 1])"
            ]
          },
          "metadata": {
            "tags": []
          },
          "execution_count": 42
        }
      ]
    },
    {
      "cell_type": "code",
      "metadata": {
        "id": "HoqZ5PtncvYa"
      },
      "source": [
        "from sklearn.metrics import confusion_matrix,accuracy_score"
      ],
      "execution_count": null,
      "outputs": []
    },
    {
      "cell_type": "code",
      "metadata": {
        "id": "oj6ZvZvzc7-B"
      },
      "source": [
        "cm = confusion_matrix(y_test,y_pred)"
      ],
      "execution_count": null,
      "outputs": []
    },
    {
      "cell_type": "code",
      "metadata": {
        "colab": {
          "base_uri": "https://localhost:8080/"
        },
        "id": "z4rzLmS_dCU_",
        "outputId": "6e312a09-e9cf-4579-e741-5f137b9e65be"
      },
      "source": [
        "print(cm)"
      ],
      "execution_count": null,
      "outputs": [
        {
          "output_type": "stream",
          "text": [
            "[[2 0]\n",
            " [0 6]]\n"
          ],
          "name": "stdout"
        }
      ]
    },
    {
      "cell_type": "code",
      "metadata": {
        "colab": {
          "base_uri": "https://localhost:8080/"
        },
        "id": "sepkEIiodDIX",
        "outputId": "30fd16a7-4b7d-474a-d97b-d21581475253"
      },
      "source": [
        "print(accuracy_score(y_test,y_pred))"
      ],
      "execution_count": null,
      "outputs": [
        {
          "output_type": "stream",
          "text": [
            "1.0\n"
          ],
          "name": "stdout"
        }
      ]
    },
    {
      "cell_type": "code",
      "metadata": {
        "colab": {
          "base_uri": "https://localhost:8080/",
          "height": 286
        },
        "id": "Ehr5Hm3ZdIJz",
        "outputId": "75324f6f-0627-4d63-a651-13290b92127d"
      },
      "source": [
        "sns.heatmap(cm,cmap='cividis_r',annot=True)"
      ],
      "execution_count": null,
      "outputs": [
        {
          "output_type": "execute_result",
          "data": {
            "text/plain": [
              "<matplotlib.axes._subplots.AxesSubplot at 0x7fb28b9c4b50>"
            ]
          },
          "metadata": {
            "tags": []
          },
          "execution_count": 53
        },
        {
          "output_type": "display_data",
          "data": {
            "image/png": "[encoded data removed]",
            "text/plain": [
              "<Figure size 432x288 with 2 Axes>"
            ]
          },
          "metadata": {
            "tags": [],
            "needs_background": "light"
          }
        }
      ]
    },
    {
      "cell_type": "code",
      "metadata": {
        "id": "sPz73rRcdL6X"
      },
      "source": [
        "import pickle\n"
      ],
      "execution_count": null,
      "outputs": []
    },
    {
      "cell_type": "code",
      "metadata": {
        "id": "P2CO-7LUhub8"
      },
      "source": [
        "pickle.dump(classifier, open('model.pkl','wb'))"
      ],
      "execution_count": null,
      "outputs": []
    },
    {
      "cell_type": "code",
      "metadata": {
        "id": "cyaa62eFkLp6"
      },
      "source": [
        "mo = pickle.load(open('model.pkl','rb'))"
      ],
      "execution_count": null,
      "outputs": []
    },
    {
      "cell_type": "code",
      "metadata": {
        "id": "9OF9Wxmzkf6t"
      },
      "source": [
        ""
      ],
      "execution_count": null,
      "outputs": []
    },
    {
      "cell_type": "code",
      "metadata": {
        "id": "RAibybnLlh7Z"
      },
      "source": [
        ""
      ],
      "execution_count": null,
      "outputs": []
    }
  ]
}